{
 "cells": [
  {
   "cell_type": "code",
   "execution_count": 35,
   "metadata": {},
   "outputs": [],
   "source": [
    "import pandas as pd\n",
    "import json\n",
    "import requests\n"
   ]
  },
  {
   "cell_type": "code",
   "execution_count": 36,
   "metadata": {},
   "outputs": [],
   "source": [
    "username = '7f45ea45a1833ac7e127047a738e4264' # also the token\n",
    "password = 'api_token'\n",
    "URL = 'https://api.track.toggl.com/api/v8/workspaces'\n",
    "\n",
    "response = requests.get(URL, auth = (username, password) )"
   ]
  },
  {
   "cell_type": "code",
   "execution_count": 37,
   "metadata": {},
   "outputs": [
    {
     "data": {
      "text/plain": [
       "list"
      ]
     },
     "execution_count": 37,
     "metadata": {},
     "output_type": "execute_result"
    }
   ],
   "source": [
    "thing = response.json()\n",
    "type(thing)"
   ]
  },
  {
   "cell_type": "code",
   "execution_count": 38,
   "metadata": {},
   "outputs": [
    {
     "data": {
      "text/plain": [
       "4482767"
      ]
     },
     "execution_count": 38,
     "metadata": {},
     "output_type": "execute_result"
    }
   ],
   "source": [
    "id_ = thing[0]['id'] # go through other enties to get other workspaces\n",
    "id_"
   ]
  },
  {
   "cell_type": "code",
   "execution_count": 39,
   "metadata": {},
   "outputs": [],
   "source": [
    "URL = 'https://api.track.toggl.com/reports/api/v2/details?workspace_id=4482767&since=2020-08-1&until=2020-10-1&user_agent=aryaatharva18@gmail.com'\n",
    "response = requests.get(URL, auth = (username, password) )\n",
    "# response.json()"
   ]
  },
  {
   "cell_type": "code",
   "execution_count": 40,
   "metadata": {},
   "outputs": [],
   "source": [
    "\n",
    "cols = [\n",
    "#  'id',\n",
    "#  'pid',\n",
    "#  'tid',\n",
    "#  'uid',\n",
    " 'description',\n",
    " 'start',\n",
    " 'end',\n",
    " 'updated',\n",
    " 'dur',\n",
    "#  'user',\n",
    "#  'use_stop',\n",
    "#  'client',\n",
    " 'project',\n",
    "#  'project_color',\n",
    " 'project_hex_color'\n",
    "#  'task',\n",
    "#  'billable',\n",
    "#  'is_billable',\n",
    "#  'cur',\n",
    "#  'tags'\n",
    "]\n",
    "from collections import defaultdict\n",
    "df_raw = defaultdict(list)\n"
   ]
  },
  {
   "cell_type": "code",
   "execution_count": 41,
   "metadata": {},
   "outputs": [],
   "source": [
    "ind = 1\n",
    "data = []\n",
    "data_in = [0]\n",
    "while len(data_in) != 0:\n",
    "    URL = URL + '&page=' + str(ind)\n",
    "    response = requests.get(URL, auth = (username, password)).json()\n",
    "    data_in = response['data']\n",
    "    data += data_in\n",
    "    for col in cols:\n",
    "        for item in data_in:\n",
    "            df_raw[col].append(item[col])\n",
    "    ind += 1\n"
   ]
  },
  {
   "cell_type": "code",
   "execution_count": 77,
   "metadata": {},
   "outputs": [
    {
     "data": {
      "text/html": [
       "<div>\n",
       "<style scoped>\n",
       "    .dataframe tbody tr th:only-of-type {\n",
       "        vertical-align: middle;\n",
       "    }\n",
       "\n",
       "    .dataframe tbody tr th {\n",
       "        vertical-align: top;\n",
       "    }\n",
       "\n",
       "    .dataframe thead th {\n",
       "        text-align: right;\n",
       "    }\n",
       "</style>\n",
       "<table border=\"1\" class=\"dataframe\">\n",
       "  <thead>\n",
       "    <tr style=\"text-align: right;\">\n",
       "      <th></th>\n",
       "      <th>description</th>\n",
       "      <th>start</th>\n",
       "      <th>end</th>\n",
       "      <th>updated</th>\n",
       "      <th>dur</th>\n",
       "      <th>project</th>\n",
       "      <th>project_hex_color</th>\n",
       "    </tr>\n",
       "  </thead>\n",
       "  <tbody>\n",
       "    <tr>\n",
       "      <th>0</th>\n",
       "      <td>ED Assignment</td>\n",
       "      <td>2020-10-01T21:00:00+05:30</td>\n",
       "      <td>2020-10-01T22:00:00+05:30</td>\n",
       "      <td>2020-10-01T22:08:44+05:30</td>\n",
       "      <td>3600000</td>\n",
       "      <td>College Work</td>\n",
       "      <td>#525266</td>\n",
       "    </tr>\n",
       "    <tr>\n",
       "      <th>1</th>\n",
       "      <td>Hands on ML</td>\n",
       "      <td>2020-10-01T16:00:00+05:30</td>\n",
       "      <td>2020-10-01T18:00:00+05:30</td>\n",
       "      <td>2020-10-01T20:33:23+05:30</td>\n",
       "      <td>7200000</td>\n",
       "      <td>Books and Courses</td>\n",
       "      <td>#d92b2b</td>\n",
       "    </tr>\n",
       "    <tr>\n",
       "      <th>2</th>\n",
       "      <td>Hands on ML</td>\n",
       "      <td>2020-10-01T13:40:00+05:30</td>\n",
       "      <td>2020-10-01T14:40:00+05:30</td>\n",
       "      <td>2020-10-01T14:59:40+05:30</td>\n",
       "      <td>3600000</td>\n",
       "      <td>Books and Courses</td>\n",
       "      <td>#d92b2b</td>\n",
       "    </tr>\n",
       "    <tr>\n",
       "      <th>3</th>\n",
       "      <td>Hands on ML</td>\n",
       "      <td>2020-10-01T09:55:00+05:30</td>\n",
       "      <td>2020-10-01T11:55:00+05:30</td>\n",
       "      <td>2020-10-01T13:21:48+05:30</td>\n",
       "      <td>7200000</td>\n",
       "      <td>Books and Courses</td>\n",
       "      <td>#d92b2b</td>\n",
       "    </tr>\n",
       "  </tbody>\n",
       "</table>\n",
       "</div>"
      ],
      "text/plain": [
       "      description                      start                        end  \\\n",
       "0  ED Assignment   2020-10-01T21:00:00+05:30  2020-10-01T22:00:00+05:30   \n",
       "1     Hands on ML  2020-10-01T16:00:00+05:30  2020-10-01T18:00:00+05:30   \n",
       "2     Hands on ML  2020-10-01T13:40:00+05:30  2020-10-01T14:40:00+05:30   \n",
       "3     Hands on ML  2020-10-01T09:55:00+05:30  2020-10-01T11:55:00+05:30   \n",
       "\n",
       "                     updated      dur            project project_hex_color  \n",
       "0  2020-10-01T22:08:44+05:30  3600000       College Work           #525266  \n",
       "1  2020-10-01T20:33:23+05:30  7200000  Books and Courses           #d92b2b  \n",
       "2  2020-10-01T14:59:40+05:30  3600000  Books and Courses           #d92b2b  \n",
       "3  2020-10-01T13:21:48+05:30  7200000  Books and Courses           #d92b2b  "
      ]
     },
     "execution_count": 77,
     "metadata": {},
     "output_type": "execute_result"
    }
   ],
   "source": [
    "df = pd.DataFrame.from_dict(df_raw)\n",
    "df.head(4)"
   ]
  },
  {
   "cell_type": "code",
   "execution_count": 13,
   "metadata": {},
   "outputs": [],
   "source": [
    "import datetime"
   ]
  },
  {
   "cell_type": "code",
   "execution_count": 43,
   "metadata": {},
   "outputs": [
    {
     "data": {
      "text/plain": [
       "datetime.timedelta(seconds=10333)"
      ]
     },
     "execution_count": 43,
     "metadata": {},
     "output_type": "execute_result"
    }
   ],
   "source": [
    "(datetime.datetime(2020, 8, 7)-datetime.datetime.strptime(df['updated'].tolist()[-1].split(\"+\")[0], '%Y-%m-%dT%H:%M:%S'))"
   ]
  },
  {
   "cell_type": "code",
   "execution_count": 44,
   "metadata": {},
   "outputs": [
    {
     "data": {
      "text/plain": [
       "['2020-08-06T21:07:47', '05:30']"
      ]
     },
     "execution_count": 44,
     "metadata": {},
     "output_type": "execute_result"
    }
   ],
   "source": [
    "df['updated'].tolist()[-1].split(\"+\")"
   ]
  },
  {
   "cell_type": "code",
   "execution_count": 78,
   "metadata": {},
   "outputs": [
    {
     "data": {
      "text/plain": [
       "datetime.datetime(2020, 8, 6, 21, 7, 47)"
      ]
     },
     "execution_count": 78,
     "metadata": {},
     "output_type": "execute_result"
    }
   ],
   "source": [
    "dt = datetime.datetime.strptime(df['updated'].tolist()[-1].split(\"+\")[0], '%Y-%m-%dT%H:%M:%S')\n",
    "dt\n"
   ]
  },
  {
   "cell_type": "code",
   "execution_count": 46,
   "metadata": {},
   "outputs": [],
   "source": [
    "dt = (datetime.datetime.strptime(df['end'].tolist()[3].split(\"+\")[0], '%Y-%m-%dT%H:%M:%S')-datetime.datetime.strptime(df['start'].tolist()[3].split(\"+\")[0], '%Y-%m-%dT%H:%M:%S'))"
   ]
  },
  {
   "cell_type": "code",
   "execution_count": 79,
   "metadata": {},
   "outputs": [],
   "source": [
    "# df_day_raw = defaultdict(list)\n",
    "# cols = ['day', 'project', 'project_hex_color', 'dur']\n",
    "\n",
    "        "
   ]
  },
  {
   "cell_type": "code",
   "execution_count": 75,
   "metadata": {},
   "outputs": [],
   "source": [
    "df['start_day'] = [datetime.datetime.strptime(item.split(\"+\")[0], '%Y-%m-%dT%H:%M:%S').date() for item in df['start'].tolist()]\n",
    "df['end_day'] = [datetime.datetime.strptime(item.split(\"+\")[0], '%Y-%m-%dT%H:%M:%S').date() for item in df['end'].tolist()]\n"
   ]
  },
  {
   "cell_type": "code",
   "execution_count": 76,
   "metadata": {
    "scrolled": true
   },
   "outputs": [
    {
     "data": {
      "text/html": [
       "<div>\n",
       "<style scoped>\n",
       "    .dataframe tbody tr th:only-of-type {\n",
       "        vertical-align: middle;\n",
       "    }\n",
       "\n",
       "    .dataframe tbody tr th {\n",
       "        vertical-align: top;\n",
       "    }\n",
       "\n",
       "    .dataframe thead th {\n",
       "        text-align: right;\n",
       "    }\n",
       "</style>\n",
       "<table border=\"1\" class=\"dataframe\">\n",
       "  <thead>\n",
       "    <tr style=\"text-align: right;\">\n",
       "      <th></th>\n",
       "      <th>description</th>\n",
       "      <th>start</th>\n",
       "      <th>end</th>\n",
       "      <th>updated</th>\n",
       "      <th>dur</th>\n",
       "      <th>project</th>\n",
       "      <th>project_hex_color</th>\n",
       "      <th>start_day</th>\n",
       "      <th>end_day</th>\n",
       "    </tr>\n",
       "  </thead>\n",
       "  <tbody>\n",
       "    <tr>\n",
       "      <th>0</th>\n",
       "      <td>ED Assignment</td>\n",
       "      <td>2020-10-01T21:00:00+05:30</td>\n",
       "      <td>2020-10-01T22:00:00+05:30</td>\n",
       "      <td>2020-10-01T22:08:44+05:30</td>\n",
       "      <td>3600000</td>\n",
       "      <td>College Work</td>\n",
       "      <td>#525266</td>\n",
       "      <td>2020-10-01</td>\n",
       "      <td>2020-10-01</td>\n",
       "    </tr>\n",
       "    <tr>\n",
       "      <th>1</th>\n",
       "      <td>Hands on ML</td>\n",
       "      <td>2020-10-01T16:00:00+05:30</td>\n",
       "      <td>2020-10-01T18:00:00+05:30</td>\n",
       "      <td>2020-10-01T20:33:23+05:30</td>\n",
       "      <td>7200000</td>\n",
       "      <td>Books and Courses</td>\n",
       "      <td>#d92b2b</td>\n",
       "      <td>2020-10-01</td>\n",
       "      <td>2020-10-01</td>\n",
       "    </tr>\n",
       "    <tr>\n",
       "      <th>2</th>\n",
       "      <td>Hands on ML</td>\n",
       "      <td>2020-10-01T13:40:00+05:30</td>\n",
       "      <td>2020-10-01T14:40:00+05:30</td>\n",
       "      <td>2020-10-01T14:59:40+05:30</td>\n",
       "      <td>3600000</td>\n",
       "      <td>Books and Courses</td>\n",
       "      <td>#d92b2b</td>\n",
       "      <td>2020-10-01</td>\n",
       "      <td>2020-10-01</td>\n",
       "    </tr>\n",
       "    <tr>\n",
       "      <th>3</th>\n",
       "      <td>Hands on ML</td>\n",
       "      <td>2020-10-01T09:55:00+05:30</td>\n",
       "      <td>2020-10-01T11:55:00+05:30</td>\n",
       "      <td>2020-10-01T13:21:48+05:30</td>\n",
       "      <td>7200000</td>\n",
       "      <td>Books and Courses</td>\n",
       "      <td>#d92b2b</td>\n",
       "      <td>2020-10-01</td>\n",
       "      <td>2020-10-01</td>\n",
       "    </tr>\n",
       "    <tr>\n",
       "      <th>4</th>\n",
       "      <td>Hands on ML</td>\n",
       "      <td>2020-09-30T20:55:00+05:30</td>\n",
       "      <td>2020-09-30T22:10:00+05:30</td>\n",
       "      <td>2020-10-01T01:17:55+05:30</td>\n",
       "      <td>4500000</td>\n",
       "      <td>Books and Courses</td>\n",
       "      <td>#d92b2b</td>\n",
       "      <td>2020-09-30</td>\n",
       "      <td>2020-09-30</td>\n",
       "    </tr>\n",
       "    <tr>\n",
       "      <th>...</th>\n",
       "      <td>...</td>\n",
       "      <td>...</td>\n",
       "      <td>...</td>\n",
       "      <td>...</td>\n",
       "      <td>...</td>\n",
       "      <td>...</td>\n",
       "      <td>...</td>\n",
       "      <td>...</td>\n",
       "      <td>...</td>\n",
       "    </tr>\n",
       "    <tr>\n",
       "      <th>402</th>\n",
       "      <td>DLS Course 2 Week 2</td>\n",
       "      <td>2020-08-10T11:08:49+05:30</td>\n",
       "      <td>2020-08-10T11:23:01+05:30</td>\n",
       "      <td>2020-08-10T11:23:07+05:30</td>\n",
       "      <td>852000</td>\n",
       "      <td>Books and Courses</td>\n",
       "      <td>#d92b2b</td>\n",
       "      <td>2020-08-10</td>\n",
       "      <td>2020-08-10</td>\n",
       "    </tr>\n",
       "    <tr>\n",
       "      <th>403</th>\n",
       "      <td>DLS Course 2 Week 2</td>\n",
       "      <td>2020-08-07T10:31:32+05:30</td>\n",
       "      <td>2020-08-07T10:56:32+05:30</td>\n",
       "      <td>2020-08-07T10:56:34+05:30</td>\n",
       "      <td>1500000</td>\n",
       "      <td>Books and Courses</td>\n",
       "      <td>#d92b2b</td>\n",
       "      <td>2020-08-07</td>\n",
       "      <td>2020-08-07</td>\n",
       "    </tr>\n",
       "    <tr>\n",
       "      <th>404</th>\n",
       "      <td>DLS Course 2 Week 2</td>\n",
       "      <td>2020-08-06T21:33:02+05:30</td>\n",
       "      <td>2020-08-06T21:53:25+05:30</td>\n",
       "      <td>2020-08-06T21:53:25+05:30</td>\n",
       "      <td>1223000</td>\n",
       "      <td>Books and Courses</td>\n",
       "      <td>#d92b2b</td>\n",
       "      <td>2020-08-06</td>\n",
       "      <td>2020-08-06</td>\n",
       "    </tr>\n",
       "    <tr>\n",
       "      <th>405</th>\n",
       "      <td>DLS Course 2 Week 2</td>\n",
       "      <td>2020-08-06T21:07:56+05:30</td>\n",
       "      <td>2020-08-06T21:32:56+05:30</td>\n",
       "      <td>2020-08-06T21:32:57+05:30</td>\n",
       "      <td>1500000</td>\n",
       "      <td>Books and Courses</td>\n",
       "      <td>#d92b2b</td>\n",
       "      <td>2020-08-06</td>\n",
       "      <td>2020-08-06</td>\n",
       "    </tr>\n",
       "    <tr>\n",
       "      <th>406</th>\n",
       "      <td>DLS Course 2 Week 2</td>\n",
       "      <td>2020-08-06T21:07:26+05:30</td>\n",
       "      <td>2020-08-06T21:07:29+05:30</td>\n",
       "      <td>2020-08-06T21:07:47+05:30</td>\n",
       "      <td>3000</td>\n",
       "      <td>Books and Courses</td>\n",
       "      <td>#d92b2b</td>\n",
       "      <td>2020-08-06</td>\n",
       "      <td>2020-08-06</td>\n",
       "    </tr>\n",
       "  </tbody>\n",
       "</table>\n",
       "<p>407 rows × 9 columns</p>\n",
       "</div>"
      ],
      "text/plain": [
       "             description                      start  \\\n",
       "0         ED Assignment   2020-10-01T21:00:00+05:30   \n",
       "1            Hands on ML  2020-10-01T16:00:00+05:30   \n",
       "2            Hands on ML  2020-10-01T13:40:00+05:30   \n",
       "3            Hands on ML  2020-10-01T09:55:00+05:30   \n",
       "4            Hands on ML  2020-09-30T20:55:00+05:30   \n",
       "..                   ...                        ...   \n",
       "402  DLS Course 2 Week 2  2020-08-10T11:08:49+05:30   \n",
       "403  DLS Course 2 Week 2  2020-08-07T10:31:32+05:30   \n",
       "404  DLS Course 2 Week 2  2020-08-06T21:33:02+05:30   \n",
       "405  DLS Course 2 Week 2  2020-08-06T21:07:56+05:30   \n",
       "406  DLS Course 2 Week 2  2020-08-06T21:07:26+05:30   \n",
       "\n",
       "                           end                    updated      dur  \\\n",
       "0    2020-10-01T22:00:00+05:30  2020-10-01T22:08:44+05:30  3600000   \n",
       "1    2020-10-01T18:00:00+05:30  2020-10-01T20:33:23+05:30  7200000   \n",
       "2    2020-10-01T14:40:00+05:30  2020-10-01T14:59:40+05:30  3600000   \n",
       "3    2020-10-01T11:55:00+05:30  2020-10-01T13:21:48+05:30  7200000   \n",
       "4    2020-09-30T22:10:00+05:30  2020-10-01T01:17:55+05:30  4500000   \n",
       "..                         ...                        ...      ...   \n",
       "402  2020-08-10T11:23:01+05:30  2020-08-10T11:23:07+05:30   852000   \n",
       "403  2020-08-07T10:56:32+05:30  2020-08-07T10:56:34+05:30  1500000   \n",
       "404  2020-08-06T21:53:25+05:30  2020-08-06T21:53:25+05:30  1223000   \n",
       "405  2020-08-06T21:32:56+05:30  2020-08-06T21:32:57+05:30  1500000   \n",
       "406  2020-08-06T21:07:29+05:30  2020-08-06T21:07:47+05:30     3000   \n",
       "\n",
       "               project project_hex_color   start_day     end_day  \n",
       "0         College Work           #525266  2020-10-01  2020-10-01  \n",
       "1    Books and Courses           #d92b2b  2020-10-01  2020-10-01  \n",
       "2    Books and Courses           #d92b2b  2020-10-01  2020-10-01  \n",
       "3    Books and Courses           #d92b2b  2020-10-01  2020-10-01  \n",
       "4    Books and Courses           #d92b2b  2020-09-30  2020-09-30  \n",
       "..                 ...               ...         ...         ...  \n",
       "402  Books and Courses           #d92b2b  2020-08-10  2020-08-10  \n",
       "403  Books and Courses           #d92b2b  2020-08-07  2020-08-07  \n",
       "404  Books and Courses           #d92b2b  2020-08-06  2020-08-06  \n",
       "405  Books and Courses           #d92b2b  2020-08-06  2020-08-06  \n",
       "406  Books and Courses           #d92b2b  2020-08-06  2020-08-06  \n",
       "\n",
       "[407 rows x 9 columns]"
      ]
     },
     "execution_count": 76,
     "metadata": {},
     "output_type": "execute_result"
    }
   ],
   "source": [
    "df"
   ]
  },
  {
   "cell_type": "code",
   "execution_count": null,
   "metadata": {},
   "outputs": [],
   "source": []
  },
  {
   "cell_type": "code",
   "execution_count": null,
   "metadata": {},
   "outputs": [],
   "source": []
  }
 ],
 "metadata": {
  "kernelspec": {
   "display_name": "Python 3",
   "language": "python",
   "name": "python3"
  },
  "language_info": {
   "codemirror_mode": {
    "name": "ipython",
    "version": 3
   },
   "file_extension": ".py",
   "mimetype": "text/x-python",
   "name": "python",
   "nbconvert_exporter": "python",
   "pygments_lexer": "ipython3",
   "version": "3.7.7"
  }
 },
 "nbformat": 4,
 "nbformat_minor": 4
}
