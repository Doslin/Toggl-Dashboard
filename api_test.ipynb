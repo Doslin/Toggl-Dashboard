{
 "metadata": {
  "language_info": {
   "codemirror_mode": {
    "name": "ipython",
    "version": 3
   },
   "file_extension": ".py",
   "mimetype": "text/x-python",
   "name": "python",
   "nbconvert_exporter": "python",
   "pygments_lexer": "ipython3",
   "version": "3.7.7-final"
  },
  "orig_nbformat": 2,
  "kernelspec": {
   "name": "Python 3.7.7 64-bit",
   "display_name": "Python 3.7.7 64-bit",
   "metadata": {
    "interpreter": {
     "hash": "9a0252739e11f0416ebf53e473db0d8753d1bea2ba7d59db820a6e3725e54955"
    }
   }
  }
 },
 "nbformat": 4,
 "nbformat_minor": 2,
 "cells": [
  {
   "cell_type": "code",
   "execution_count": 115,
   "metadata": {},
   "outputs": [],
   "source": [
    "import pandas as pd\n",
    "import json\n",
    "import requests\n",
    "import datetime\n",
    "from collections import defaultdict\n"
   ]
  },
  {
   "source": [
    "## the detailed api"
   ],
   "cell_type": "markdown",
   "metadata": {}
  },
  {
   "cell_type": "code",
   "execution_count": 116,
   "metadata": {},
   "outputs": [
    {
     "output_type": "execute_result",
     "data": {
      "text/plain": "      description                      start                        end  \\\n0  ED Assignment   2020-10-01T21:00:00+05:30  2020-10-01T22:00:00+05:30   \n1     Hands on ML  2020-10-01T16:00:00+05:30  2020-10-01T18:00:00+05:30   \n2     Hands on ML  2020-10-01T13:40:00+05:30  2020-10-01T14:40:00+05:30   \n3     Hands on ML  2020-10-01T09:55:00+05:30  2020-10-01T11:55:00+05:30   \n\n                     updated      dur            project project_hex_color  \n0  2020-10-01T22:08:44+05:30  3600000       College Work           #525266  \n1  2020-10-01T20:33:23+05:30  7200000  Books and Courses           #d92b2b  \n2  2020-10-01T14:59:40+05:30  3600000  Books and Courses           #d92b2b  \n3  2020-10-01T13:21:48+05:30  7200000  Books and Courses           #d92b2b  ",
      "text/html": "<div>\n<style scoped>\n    .dataframe tbody tr th:only-of-type {\n        vertical-align: middle;\n    }\n\n    .dataframe tbody tr th {\n        vertical-align: top;\n    }\n\n    .dataframe thead th {\n        text-align: right;\n    }\n</style>\n<table border=\"1\" class=\"dataframe\">\n  <thead>\n    <tr style=\"text-align: right;\">\n      <th></th>\n      <th>description</th>\n      <th>start</th>\n      <th>end</th>\n      <th>updated</th>\n      <th>dur</th>\n      <th>project</th>\n      <th>project_hex_color</th>\n    </tr>\n  </thead>\n  <tbody>\n    <tr>\n      <th>0</th>\n      <td>ED Assignment</td>\n      <td>2020-10-01T21:00:00+05:30</td>\n      <td>2020-10-01T22:00:00+05:30</td>\n      <td>2020-10-01T22:08:44+05:30</td>\n      <td>3600000</td>\n      <td>College Work</td>\n      <td>#525266</td>\n    </tr>\n    <tr>\n      <th>1</th>\n      <td>Hands on ML</td>\n      <td>2020-10-01T16:00:00+05:30</td>\n      <td>2020-10-01T18:00:00+05:30</td>\n      <td>2020-10-01T20:33:23+05:30</td>\n      <td>7200000</td>\n      <td>Books and Courses</td>\n      <td>#d92b2b</td>\n    </tr>\n    <tr>\n      <th>2</th>\n      <td>Hands on ML</td>\n      <td>2020-10-01T13:40:00+05:30</td>\n      <td>2020-10-01T14:40:00+05:30</td>\n      <td>2020-10-01T14:59:40+05:30</td>\n      <td>3600000</td>\n      <td>Books and Courses</td>\n      <td>#d92b2b</td>\n    </tr>\n    <tr>\n      <th>3</th>\n      <td>Hands on ML</td>\n      <td>2020-10-01T09:55:00+05:30</td>\n      <td>2020-10-01T11:55:00+05:30</td>\n      <td>2020-10-01T13:21:48+05:30</td>\n      <td>7200000</td>\n      <td>Books and Courses</td>\n      <td>#d92b2b</td>\n    </tr>\n  </tbody>\n</table>\n</div>"
     },
     "metadata": {},
     "execution_count": 116
    }
   ],
   "source": [
    "URL = 'https://api.track.toggl.com/reports/api/v2/details?workspace_id=4482767&since=2020-08-1&until=2020-10-1&user_agent=aryaatharva18@gmail.com'\n",
    "username = '7f45ea45a1833ac7e127047a738e4264' # also the token\n",
    "password = 'api_token'\n",
    "\n",
    "cols = [\n",
    "#  'id',\n",
    "#  'pid',\n",
    "#  'tid',\n",
    "#  'uid',\n",
    " 'description',\n",
    " 'start',\n",
    " 'end',\n",
    " 'updated',\n",
    " 'dur',\n",
    "#  'user',\n",
    "#  'use_stop',\n",
    "#  'client',\n",
    " 'project',\n",
    "#  'project_color',\n",
    " 'project_hex_color'\n",
    "#  'task',\n",
    "#  'billable',\n",
    "#  'is_billable',\n",
    "#  'cur',\n",
    "#  'tags'\n",
    "]\n",
    "\n",
    "\n",
    "df_raw = defaultdict(list)\n",
    "ind = 1\n",
    "data = []\n",
    "data_in = [0]\n",
    "while len(data_in) != 0:\n",
    "    URL = URL + '&page=' + str(ind)\n",
    "    response = requests.get(URL, auth = (username, password)).json()\n",
    "    data_in = response['data']\n",
    "    data += data_in\n",
    "    for col in cols:\n",
    "        for item in data_in:\n",
    "            df_raw[col].append(item[col])\n",
    "    ind += 1\n",
    "df = pd.DataFrame.from_dict(df_raw)\n",
    "df.head(4)"
   ]
  },
  {
   "cell_type": "code",
   "execution_count": 117,
   "metadata": {},
   "outputs": [
    {
     "output_type": "execute_result",
     "data": {
      "text/plain": "&#39;2020-10-01&#39;"
     },
     "metadata": {},
     "execution_count": 117
    }
   ],
   "source": [
    "str(datetime.datetime.strptime(df['start'].tolist()[3].split('+')[0], '%Y-%m-%dT%H:%M:%S').date())"
   ]
  },
  {
   "cell_type": "code",
   "execution_count": 118,
   "metadata": {},
   "outputs": [
    {
     "output_type": "execute_result",
     "data": {
      "text/plain": "&#39;2020-10-01T09:55:00&#39;"
     },
     "metadata": {},
     "execution_count": 118
    }
   ],
   "source": [
    "df['start'].tolist()[3].split('+')[0]"
   ]
  },
  {
   "source": [
    "cols = [\n",
    "        'description',\n",
    "        'start',\n",
    "        'end',\n",
    "        'updated',\n",
    "        'dur',\n",
    "        'project',\n",
    "        'project_hex_color'\n",
    "        ]\n",
    "print(cols)"
   ],
   "cell_type": "code",
   "metadata": {
    "tags": []
   },
   "execution_count": 119,
   "outputs": [
    {
     "output_type": "stream",
     "name": "stdout",
     "text": "[&#39;description&#39;, &#39;start&#39;, &#39;end&#39;, &#39;updated&#39;, &#39;dur&#39;, &#39;project&#39;, &#39;project_hex_color&#39;]\n"
    }
   ]
  },
  {
   "cell_type": "code",
   "execution_count": 120,
   "metadata": {},
   "outputs": [],
   "source": [
    "URL = 'https://api.track.toggl.com/reports/api/v2/summary?workspace_id=4482767&since=2020-08-1&until=2020-10-1&user_agent=aryaatharva18@gmail.com'\n",
    "username = '7f45ea45a1833ac7e127047a738e4264' # also the token\n",
    "password = 'api_token'\n",
    "response = requests.get(URL, auth = (username, password)).json()\n"
   ]
  },
  {
   "cell_type": "code",
   "execution_count": 121,
   "metadata": {},
   "outputs": [],
   "source": [
    "df_tasks = defaultdict(list)\n",
    "df_projects = defaultdict(list)\n",
    "df = defaultdict(list)"
   ]
  },
  {
   "cell_type": "code",
   "execution_count": 122,
   "metadata": {},
   "outputs": [],
   "source": [
    "data = response['data'] # is a list\n",
    "for project in data:\n",
    "    tasks = project['items'] # is a list too, containing dictionaries \n",
    "    for task in tasks:\n",
    "        df['task'].append(task['title']['time_entry'])\n",
    "        df['task time duration'].append(task['time'])\n",
    "        df['project'].append(project['title']['project'])\n",
    "        # df['project name'].append(project['title']['project'])\n",
    "        df['project time duration'].append(project['time'])\n",
    "        df['project color'].append(project['title']['hex_color'])\n"
   ]
  },
  {
   "cell_type": "code",
   "execution_count": 123,
   "metadata": {},
   "outputs": [
    {
     "output_type": "execute_result",
     "data": {
      "text/plain": "                  task  task time duration            project  \\\n0         DLP Course 1              694000  Books and Courses   \n1  DLS Course 2 Week 2            12879000  Books and Courses   \n2  DLS Course 2 Week 3            18050000  Books and Courses   \n3  DLS Course 4 Week 1            11495000  Books and Courses   \n4  DLS Course 4 Week 2            17518117  Books and Courses   \n\n   project time duration project color  \n0              269730117       #d92b2b  \n1              269730117       #d92b2b  \n2              269730117       #d92b2b  \n3              269730117       #d92b2b  \n4              269730117       #d92b2b  ",
      "text/html": "<div>\n<style scoped>\n    .dataframe tbody tr th:only-of-type {\n        vertical-align: middle;\n    }\n\n    .dataframe tbody tr th {\n        vertical-align: top;\n    }\n\n    .dataframe thead th {\n        text-align: right;\n    }\n</style>\n<table border=\"1\" class=\"dataframe\">\n  <thead>\n    <tr style=\"text-align: right;\">\n      <th></th>\n      <th>task</th>\n      <th>task time duration</th>\n      <th>project</th>\n      <th>project time duration</th>\n      <th>project color</th>\n    </tr>\n  </thead>\n  <tbody>\n    <tr>\n      <th>0</th>\n      <td>DLP Course 1</td>\n      <td>694000</td>\n      <td>Books and Courses</td>\n      <td>269730117</td>\n      <td>#d92b2b</td>\n    </tr>\n    <tr>\n      <th>1</th>\n      <td>DLS Course 2 Week 2</td>\n      <td>12879000</td>\n      <td>Books and Courses</td>\n      <td>269730117</td>\n      <td>#d92b2b</td>\n    </tr>\n    <tr>\n      <th>2</th>\n      <td>DLS Course 2 Week 3</td>\n      <td>18050000</td>\n      <td>Books and Courses</td>\n      <td>269730117</td>\n      <td>#d92b2b</td>\n    </tr>\n    <tr>\n      <th>3</th>\n      <td>DLS Course 4 Week 1</td>\n      <td>11495000</td>\n      <td>Books and Courses</td>\n      <td>269730117</td>\n      <td>#d92b2b</td>\n    </tr>\n    <tr>\n      <th>4</th>\n      <td>DLS Course 4 Week 2</td>\n      <td>17518117</td>\n      <td>Books and Courses</td>\n      <td>269730117</td>\n      <td>#d92b2b</td>\n    </tr>\n  </tbody>\n</table>\n</div>"
     },
     "metadata": {},
     "execution_count": 123
    }
   ],
   "source": [
    "df = pd.DataFrame.from_dict(df)\n",
    "pd.set_option('display.max_rows', 500)\n",
    "df = df.dropna()\n",
    "df.head()\n",
    "# df.iloc[-1]"
   ]
  },
  {
   "cell_type": "code",
   "execution_count": 85,
   "metadata": {},
   "outputs": [],
   "source": [
    "def build_sunburst_data(df, parents, labels,values, string = 'total'):\n",
    "    \n",
    "    main_parents = list(set(parents))\n",
    "    main_values = []\n",
    "    \n",
    "    for main_parent in  main_parents:\n",
    "        tmp = []\n",
    "        for parent, label, value in zip(parents, labels, values):\n",
    "            if parent == main_parent:\n",
    "                tmp.append(value)\n",
    "        main_values.append(sum(tmp))\n",
    "    \n",
    "    parents += [string] * len(main_parents)\n",
    "    labels += main_parents\n",
    "    values += main_values\n",
    "\n",
    "    parents.append(\"\")\n",
    "    labels.append(string)\n",
    "    values.append(0.5*sum(values))\n",
    "\n",
    "    return parents, labels, values"
   ]
  },
  {
   "cell_type": "code",
   "execution_count": 86,
   "metadata": {},
   "outputs": [],
   "source": [
    "parents, labels, values = build_sunburst_data(df, df['project'].tolist(), df['task'].tolist(),df['task time duration'].tolist(), string = 'total')"
   ]
  },
  {
   "cell_type": "code",
   "execution_count": 94,
   "metadata": {},
   "outputs": [
    {
     "output_type": "display_data",
     "data": {
      "application/vnd.plotly.v1+json": {
       "config": {
        "plotlyServerURL": "https://plot.ly"
       },
       "data": [
        {
         "branchvalues": "total",
         "labels": [
          "DLP Course 1",
          "DLS Course 2 Week 2",
          "DLS Course 2 Week 3",
          "DLS Course 4 Week 1",
          "DLS Course 4 Week 2",
          "DLS Course 4 Week 3",
          "DLS Course 4 Week 4",
          "DLS Course 5",
          "Hands on ML",
          "Inception Paper",
          "NLP Course 2",
          "Res Net Paper",
          "TIP Course 1",
          "TIP Course 2",
          "TIP Course 3",
          "TIP Course 4",
          "applying to a data science intern position",
          "mails, docs, pdfs",
          "resume",
          "assignment",
          "DSD",
          "DSD TA",
          "ED Assignment ",
          "Electronic Devices UT 1",
          "Math for UT",
          "Network Theory UT 1",
          "NT Unit 1",
          "reading economics for speech ",
          "Signals and Systems",
          "TBI data collection",
          "",
          "DL",
          "PyPi setup",
          "Detecting Pneumonia ",
          "Mechanisms of Action (MoA) Prediction",
          "OpenVaccine: COVID-19 mRNA Vaccine Degradation Prediction",
          "Applying for Fellowship ",
          "Creating Resume",
          "Filling the MLH Form ",
          "reading unscripted",
          "three js",
          "creating plotly based 3d scatter plots for wfn",
          "reading about mediawiki api",
          "WFN PPT",
          "chores",
          "Books and Courses",
          "College Work",
          "Kaggle",
          "web development(WFN)",
          "Wiki For Nerds",
          "Googling/Browsing",
          "Overall",
          "Side Projects",
          "total"
         ],
         "parents": [
          "Books and Courses",
          "Books and Courses",
          "Books and Courses",
          "Books and Courses",
          "Books and Courses",
          "Books and Courses",
          "Books and Courses",
          "Books and Courses",
          "Books and Courses",
          "Books and Courses",
          "Books and Courses",
          "Books and Courses",
          "Books and Courses",
          "Books and Courses",
          "Books and Courses",
          "Books and Courses",
          "chores",
          "chores",
          "chores",
          "College Work",
          "College Work",
          "College Work",
          "College Work",
          "College Work",
          "College Work",
          "College Work",
          "College Work",
          "College Work",
          "College Work",
          "College Work",
          "Googling/Browsing",
          "Googling/Browsing",
          "Googling/Browsing",
          "Kaggle",
          "Kaggle",
          "Kaggle",
          "Overall",
          "Overall",
          "Overall",
          "Side Projects",
          "web development(WFN)",
          "Wiki For Nerds",
          "Wiki For Nerds",
          "Wiki For Nerds",
          "total",
          "total",
          "total",
          "total",
          "total",
          "total",
          "total",
          "total",
          "total",
          ""
         ],
         "textinfo": "none",
         "type": "sunburst",
         "values": [
          694000,
          12879000,
          18050000,
          11495000,
          17518117,
          5146000,
          4308000,
          23492000,
          37200000,
          254000,
          51951000,
          212000,
          23887000,
          27679000,
          21825000,
          13140000,
          1826000,
          8234000,
          2423000,
          9322000,
          31200000,
          1800000,
          3600000,
          11700000,
          30900000,
          53499000,
          1202000,
          2963000,
          13800000,
          2031000,
          2521000,
          6438000,
          1800000,
          38590000,
          3000,
          155695000,
          3000,
          14634000,
          4800000,
          100006000,
          16857000,
          2808000,
          1974000,
          6953000,
          12483000,
          269730117,
          162017000,
          194288000,
          16857000,
          11735000,
          10759000,
          19437000,
          100006000,
          797312117
         ]
        }
       ],
       "layout": {
        "template": {
         "data": {
          "bar": [
           {
            "error_x": {
             "color": "#2a3f5f"
            },
            "error_y": {
             "color": "#2a3f5f"
            },
            "marker": {
             "line": {
              "color": "#E5ECF6",
              "width": 0.5
             }
            },
            "type": "bar"
           }
          ],
          "barpolar": [
           {
            "marker": {
             "line": {
              "color": "#E5ECF6",
              "width": 0.5
             }
            },
            "type": "barpolar"
           }
          ],
          "carpet": [
           {
            "aaxis": {
             "endlinecolor": "#2a3f5f",
             "gridcolor": "white",
             "linecolor": "white",
             "minorgridcolor": "white",
             "startlinecolor": "#2a3f5f"
            },
            "baxis": {
             "endlinecolor": "#2a3f5f",
             "gridcolor": "white",
             "linecolor": "white",
             "minorgridcolor": "white",
             "startlinecolor": "#2a3f5f"
            },
            "type": "carpet"
           }
          ],
          "choropleth": [
           {
            "colorbar": {
             "outlinewidth": 0,
             "ticks": ""
            },
            "type": "choropleth"
           }
          ],
          "contour": [
           {
            "colorbar": {
             "outlinewidth": 0,
             "ticks": ""
            },
            "colorscale": [
             [
              0,
              "#0d0887"
             ],
             [
              0.1111111111111111,
              "#46039f"
             ],
             [
              0.2222222222222222,
              "#7201a8"
             ],
             [
              0.3333333333333333,
              "#9c179e"
             ],
             [
              0.4444444444444444,
              "#bd3786"
             ],
             [
              0.5555555555555556,
              "#d8576b"
             ],
             [
              0.6666666666666666,
              "#ed7953"
             ],
             [
              0.7777777777777778,
              "#fb9f3a"
             ],
             [
              0.8888888888888888,
              "#fdca26"
             ],
             [
              1,
              "#f0f921"
             ]
            ],
            "type": "contour"
           }
          ],
          "contourcarpet": [
           {
            "colorbar": {
             "outlinewidth": 0,
             "ticks": ""
            },
            "type": "contourcarpet"
           }
          ],
          "heatmap": [
           {
            "colorbar": {
             "outlinewidth": 0,
             "ticks": ""
            },
            "colorscale": [
             [
              0,
              "#0d0887"
             ],
             [
              0.1111111111111111,
              "#46039f"
             ],
             [
              0.2222222222222222,
              "#7201a8"
             ],
             [
              0.3333333333333333,
              "#9c179e"
             ],
             [
              0.4444444444444444,
              "#bd3786"
             ],
             [
              0.5555555555555556,
              "#d8576b"
             ],
             [
              0.6666666666666666,
              "#ed7953"
             ],
             [
              0.7777777777777778,
              "#fb9f3a"
             ],
             [
              0.8888888888888888,
              "#fdca26"
             ],
             [
              1,
              "#f0f921"
             ]
            ],
            "type": "heatmap"
           }
          ],
          "heatmapgl": [
           {
            "colorbar": {
             "outlinewidth": 0,
             "ticks": ""
            },
            "colorscale": [
             [
              0,
              "#0d0887"
             ],
             [
              0.1111111111111111,
              "#46039f"
             ],
             [
              0.2222222222222222,
              "#7201a8"
             ],
             [
              0.3333333333333333,
              "#9c179e"
             ],
             [
              0.4444444444444444,
              "#bd3786"
             ],
             [
              0.5555555555555556,
              "#d8576b"
             ],
             [
              0.6666666666666666,
              "#ed7953"
             ],
             [
              0.7777777777777778,
              "#fb9f3a"
             ],
             [
              0.8888888888888888,
              "#fdca26"
             ],
             [
              1,
              "#f0f921"
             ]
            ],
            "type": "heatmapgl"
           }
          ],
          "histogram": [
           {
            "marker": {
             "colorbar": {
              "outlinewidth": 0,
              "ticks": ""
             }
            },
            "type": "histogram"
           }
          ],
          "histogram2d": [
           {
            "colorbar": {
             "outlinewidth": 0,
             "ticks": ""
            },
            "colorscale": [
             [
              0,
              "#0d0887"
             ],
             [
              0.1111111111111111,
              "#46039f"
             ],
             [
              0.2222222222222222,
              "#7201a8"
             ],
             [
              0.3333333333333333,
              "#9c179e"
             ],
             [
              0.4444444444444444,
              "#bd3786"
             ],
             [
              0.5555555555555556,
              "#d8576b"
             ],
             [
              0.6666666666666666,
              "#ed7953"
             ],
             [
              0.7777777777777778,
              "#fb9f3a"
             ],
             [
              0.8888888888888888,
              "#fdca26"
             ],
             [
              1,
              "#f0f921"
             ]
            ],
            "type": "histogram2d"
           }
          ],
          "histogram2dcontour": [
           {
            "colorbar": {
             "outlinewidth": 0,
             "ticks": ""
            },
            "colorscale": [
             [
              0,
              "#0d0887"
             ],
             [
              0.1111111111111111,
              "#46039f"
             ],
             [
              0.2222222222222222,
              "#7201a8"
             ],
             [
              0.3333333333333333,
              "#9c179e"
             ],
             [
              0.4444444444444444,
              "#bd3786"
             ],
             [
              0.5555555555555556,
              "#d8576b"
             ],
             [
              0.6666666666666666,
              "#ed7953"
             ],
             [
              0.7777777777777778,
              "#fb9f3a"
             ],
             [
              0.8888888888888888,
              "#fdca26"
             ],
             [
              1,
              "#f0f921"
             ]
            ],
            "type": "histogram2dcontour"
           }
          ],
          "mesh3d": [
           {
            "colorbar": {
             "outlinewidth": 0,
             "ticks": ""
            },
            "type": "mesh3d"
           }
          ],
          "parcoords": [
           {
            "line": {
             "colorbar": {
              "outlinewidth": 0,
              "ticks": ""
             }
            },
            "type": "parcoords"
           }
          ],
          "pie": [
           {
            "automargin": true,
            "type": "pie"
           }
          ],
          "scatter": [
           {
            "marker": {
             "colorbar": {
              "outlinewidth": 0,
              "ticks": ""
             }
            },
            "type": "scatter"
           }
          ],
          "scatter3d": [
           {
            "line": {
             "colorbar": {
              "outlinewidth": 0,
              "ticks": ""
             }
            },
            "marker": {
             "colorbar": {
              "outlinewidth": 0,
              "ticks": ""
             }
            },
            "type": "scatter3d"
           }
          ],
          "scattercarpet": [
           {
            "marker": {
             "colorbar": {
              "outlinewidth": 0,
              "ticks": ""
             }
            },
            "type": "scattercarpet"
           }
          ],
          "scattergeo": [
           {
            "marker": {
             "colorbar": {
              "outlinewidth": 0,
              "ticks": ""
             }
            },
            "type": "scattergeo"
           }
          ],
          "scattergl": [
           {
            "marker": {
             "colorbar": {
              "outlinewidth": 0,
              "ticks": ""
             }
            },
            "type": "scattergl"
           }
          ],
          "scattermapbox": [
           {
            "marker": {
             "colorbar": {
              "outlinewidth": 0,
              "ticks": ""
             }
            },
            "type": "scattermapbox"
           }
          ],
          "scatterpolar": [
           {
            "marker": {
             "colorbar": {
              "outlinewidth": 0,
              "ticks": ""
             }
            },
            "type": "scatterpolar"
           }
          ],
          "scatterpolargl": [
           {
            "marker": {
             "colorbar": {
              "outlinewidth": 0,
              "ticks": ""
             }
            },
            "type": "scatterpolargl"
           }
          ],
          "scatterternary": [
           {
            "marker": {
             "colorbar": {
              "outlinewidth": 0,
              "ticks": ""
             }
            },
            "type": "scatterternary"
           }
          ],
          "surface": [
           {
            "colorbar": {
             "outlinewidth": 0,
             "ticks": ""
            },
            "colorscale": [
             [
              0,
              "#0d0887"
             ],
             [
              0.1111111111111111,
              "#46039f"
             ],
             [
              0.2222222222222222,
              "#7201a8"
             ],
             [
              0.3333333333333333,
              "#9c179e"
             ],
             [
              0.4444444444444444,
              "#bd3786"
             ],
             [
              0.5555555555555556,
              "#d8576b"
             ],
             [
              0.6666666666666666,
              "#ed7953"
             ],
             [
              0.7777777777777778,
              "#fb9f3a"
             ],
             [
              0.8888888888888888,
              "#fdca26"
             ],
             [
              1,
              "#f0f921"
             ]
            ],
            "type": "surface"
           }
          ],
          "table": [
           {
            "cells": {
             "fill": {
              "color": "#EBF0F8"
             },
             "line": {
              "color": "white"
             }
            },
            "header": {
             "fill": {
              "color": "#C8D4E3"
             },
             "line": {
              "color": "white"
             }
            },
            "type": "table"
           }
          ]
         },
         "layout": {
          "annotationdefaults": {
           "arrowcolor": "#2a3f5f",
           "arrowhead": 0,
           "arrowwidth": 1
          },
          "coloraxis": {
           "colorbar": {
            "outlinewidth": 0,
            "ticks": ""
           }
          },
          "colorscale": {
           "diverging": [
            [
             0,
             "#8e0152"
            ],
            [
             0.1,
             "#c51b7d"
            ],
            [
             0.2,
             "#de77ae"
            ],
            [
             0.3,
             "#f1b6da"
            ],
            [
             0.4,
             "#fde0ef"
            ],
            [
             0.5,
             "#f7f7f7"
            ],
            [
             0.6,
             "#e6f5d0"
            ],
            [
             0.7,
             "#b8e186"
            ],
            [
             0.8,
             "#7fbc41"
            ],
            [
             0.9,
             "#4d9221"
            ],
            [
             1,
             "#276419"
            ]
           ],
           "sequential": [
            [
             0,
             "#0d0887"
            ],
            [
             0.1111111111111111,
             "#46039f"
            ],
            [
             0.2222222222222222,
             "#7201a8"
            ],
            [
             0.3333333333333333,
             "#9c179e"
            ],
            [
             0.4444444444444444,
             "#bd3786"
            ],
            [
             0.5555555555555556,
             "#d8576b"
            ],
            [
             0.6666666666666666,
             "#ed7953"
            ],
            [
             0.7777777777777778,
             "#fb9f3a"
            ],
            [
             0.8888888888888888,
             "#fdca26"
            ],
            [
             1,
             "#f0f921"
            ]
           ],
           "sequentialminus": [
            [
             0,
             "#0d0887"
            ],
            [
             0.1111111111111111,
             "#46039f"
            ],
            [
             0.2222222222222222,
             "#7201a8"
            ],
            [
             0.3333333333333333,
             "#9c179e"
            ],
            [
             0.4444444444444444,
             "#bd3786"
            ],
            [
             0.5555555555555556,
             "#d8576b"
            ],
            [
             0.6666666666666666,
             "#ed7953"
            ],
            [
             0.7777777777777778,
             "#fb9f3a"
            ],
            [
             0.8888888888888888,
             "#fdca26"
            ],
            [
             1,
             "#f0f921"
            ]
           ]
          },
          "colorway": [
           "#636efa",
           "#EF553B",
           "#00cc96",
           "#ab63fa",
           "#FFA15A",
           "#19d3f3",
           "#FF6692",
           "#B6E880",
           "#FF97FF",
           "#FECB52"
          ],
          "font": {
           "color": "#2a3f5f"
          },
          "geo": {
           "bgcolor": "white",
           "lakecolor": "white",
           "landcolor": "#E5ECF6",
           "showlakes": true,
           "showland": true,
           "subunitcolor": "white"
          },
          "hoverlabel": {
           "align": "left"
          },
          "hovermode": "closest",
          "mapbox": {
           "style": "light"
          },
          "paper_bgcolor": "white",
          "plot_bgcolor": "#E5ECF6",
          "polar": {
           "angularaxis": {
            "gridcolor": "white",
            "linecolor": "white",
            "ticks": ""
           },
           "bgcolor": "#E5ECF6",
           "radialaxis": {
            "gridcolor": "white",
            "linecolor": "white",
            "ticks": ""
           }
          },
          "scene": {
           "xaxis": {
            "backgroundcolor": "#E5ECF6",
            "gridcolor": "white",
            "gridwidth": 2,
            "linecolor": "white",
            "showbackground": true,
            "ticks": "",
            "zerolinecolor": "white"
           },
           "yaxis": {
            "backgroundcolor": "#E5ECF6",
            "gridcolor": "white",
            "gridwidth": 2,
            "linecolor": "white",
            "showbackground": true,
            "ticks": "",
            "zerolinecolor": "white"
           },
           "zaxis": {
            "backgroundcolor": "#E5ECF6",
            "gridcolor": "white",
            "gridwidth": 2,
            "linecolor": "white",
            "showbackground": true,
            "ticks": "",
            "zerolinecolor": "white"
           }
          },
          "shapedefaults": {
           "line": {
            "color": "#2a3f5f"
           }
          },
          "ternary": {
           "aaxis": {
            "gridcolor": "white",
            "linecolor": "white",
            "ticks": ""
           },
           "baxis": {
            "gridcolor": "white",
            "linecolor": "white",
            "ticks": ""
           },
           "bgcolor": "#E5ECF6",
           "caxis": {
            "gridcolor": "white",
            "linecolor": "white",
            "ticks": ""
           }
          },
          "title": {
           "x": 0.05
          },
          "xaxis": {
           "automargin": true,
           "gridcolor": "white",
           "linecolor": "white",
           "ticks": "",
           "title": {
            "standoff": 15
           },
           "zerolinecolor": "white",
           "zerolinewidth": 2
          },
          "yaxis": {
           "automargin": true,
           "gridcolor": "white",
           "linecolor": "white",
           "ticks": "",
           "title": {
            "standoff": 15
           },
           "zerolinecolor": "white",
           "zerolinewidth": 2
          }
         }
        }
       }
      }
     },
     "metadata": {}
    }
   ],
   "source": [
    "import plotly.graph_objects as go\n",
    "# px.sunburst(df, path=['project', 'task'], values='task time duration')\n",
    "fig = go.Figure()\n",
    "fig.add_trace(\n",
    "    go.Sunburst(\n",
    "        values = values,\n",
    "        parents = parents,\n",
    "        labels = labels,\n",
    "        branchvalues = 'total', \n",
    "        # maxdepth = 2,\n",
    "        textinfo = \"none\"\n",
    "    )\n",
    ")\n",
    "fig.show()"
   ]
  },
  {
   "cell_type": "code",
   "execution_count": 14,
   "metadata": {},
   "outputs": [
    {
     "output_type": "execute_result",
     "data": {
      "text/plain": "        project name  project time duration project color\n0  Books and Courses              269730117       #d92b2b\n1             chores               12483000       #525266\n2       College Work              162017000       #525266\n3  Googling/Browsing               10759000       #06a893\n4             Kaggle              194288000       #e36a00",
      "text/html": "<div>\n<style scoped>\n    .dataframe tbody tr th:only-of-type {\n        vertical-align: middle;\n    }\n\n    .dataframe tbody tr th {\n        vertical-align: top;\n    }\n\n    .dataframe thead th {\n        text-align: right;\n    }\n</style>\n<table border=\"1\" class=\"dataframe\">\n  <thead>\n    <tr style=\"text-align: right;\">\n      <th></th>\n      <th>project name</th>\n      <th>project time duration</th>\n      <th>project color</th>\n    </tr>\n  </thead>\n  <tbody>\n    <tr>\n      <th>0</th>\n      <td>Books and Courses</td>\n      <td>269730117</td>\n      <td>#d92b2b</td>\n    </tr>\n    <tr>\n      <th>1</th>\n      <td>chores</td>\n      <td>12483000</td>\n      <td>#525266</td>\n    </tr>\n    <tr>\n      <th>2</th>\n      <td>College Work</td>\n      <td>162017000</td>\n      <td>#525266</td>\n    </tr>\n    <tr>\n      <th>3</th>\n      <td>Googling/Browsing</td>\n      <td>10759000</td>\n      <td>#06a893</td>\n    </tr>\n    <tr>\n      <th>4</th>\n      <td>Kaggle</td>\n      <td>194288000</td>\n      <td>#e36a00</td>\n    </tr>\n  </tbody>\n</table>\n</div>"
     },
     "metadata": {},
     "execution_count": 14
    }
   ],
   "source": [
    "df_projects = pd.DataFrame.from_dict(df_projects)\n",
    "df_projects.head()"
   ]
  },
  {
   "cell_type": "code",
   "execution_count": 16,
   "metadata": {},
   "outputs": [
    {
     "output_type": "execute_result",
     "data": {
      "text/plain": "                  task  task time duration            project\n0         DLP Course 1              694000  Books and Courses\n1  DLS Course 2 Week 2            12879000  Books and Courses\n2  DLS Course 2 Week 3            18050000  Books and Courses\n3  DLS Course 4 Week 1            11495000  Books and Courses\n4  DLS Course 4 Week 2            17518117  Books and Courses",
      "text/html": "<div>\n<style scoped>\n    .dataframe tbody tr th:only-of-type {\n        vertical-align: middle;\n    }\n\n    .dataframe tbody tr th {\n        vertical-align: top;\n    }\n\n    .dataframe thead th {\n        text-align: right;\n    }\n</style>\n<table border=\"1\" class=\"dataframe\">\n  <thead>\n    <tr style=\"text-align: right;\">\n      <th></th>\n      <th>task</th>\n      <th>task time duration</th>\n      <th>project</th>\n    </tr>\n  </thead>\n  <tbody>\n    <tr>\n      <th>0</th>\n      <td>DLP Course 1</td>\n      <td>694000</td>\n      <td>Books and Courses</td>\n    </tr>\n    <tr>\n      <th>1</th>\n      <td>DLS Course 2 Week 2</td>\n      <td>12879000</td>\n      <td>Books and Courses</td>\n    </tr>\n    <tr>\n      <th>2</th>\n      <td>DLS Course 2 Week 3</td>\n      <td>18050000</td>\n      <td>Books and Courses</td>\n    </tr>\n    <tr>\n      <th>3</th>\n      <td>DLS Course 4 Week 1</td>\n      <td>11495000</td>\n      <td>Books and Courses</td>\n    </tr>\n    <tr>\n      <th>4</th>\n      <td>DLS Course 4 Week 2</td>\n      <td>17518117</td>\n      <td>Books and Courses</td>\n    </tr>\n  </tbody>\n</table>\n</div>"
     },
     "metadata": {},
     "execution_count": 16
    }
   ],
   "source": [
    "df_tasks = pd.DataFrame.from_dict(df_tasks)\n",
    "df_tasks.head()"
   ]
  },
  {
   "cell_type": "code",
   "execution_count": null,
   "metadata": {},
   "outputs": [],
   "source": []
  }
 ]
}